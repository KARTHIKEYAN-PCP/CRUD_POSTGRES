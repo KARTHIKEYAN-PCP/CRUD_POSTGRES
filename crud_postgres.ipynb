{
 "cells": [
  {
   "cell_type": "code",
   "execution_count": 1,
   "id": "72c868b7",
   "metadata": {},
   "outputs": [],
   "source": [
    "import psycopg2\n",
    "from prettytable import PrettyTable as pt"
   ]
  },
  {
   "cell_type": "code",
   "execution_count": 5,
   "id": "8b44c794",
   "metadata": {},
   "outputs": [],
   "source": [
    "class karthi:\n",
    "    def connection(self):\n",
    "        con=psycopg2.connect(host='localhost',database='pgnewdb',user='postgres',password='karthi')\n",
    "        return con\n",
    "    \n",
    "    def create_table(self):\n",
    "        if (self.connection()):\n",
    "            con=self.connection()\n",
    "            sql='''CREATE TABLE cseb (id INT PRIMARY KEY , name TEXT,place TEXT)'''\n",
    "            cur=con.cursor()\n",
    "            cur.execute(sql)\n",
    "            con.commit()\n",
    "            con.close()\n",
    "            print(\"Table created\")\n",
    "    \n",
    "    def insert_data(self):\n",
    "        con = self.connection()\n",
    "        cur = con.cursor()\n",
    "        sql1 = '''INSERT INTO cseb(id,name,place) values(1,'karthi','dgl')'''\n",
    "        sql2 = '''INSERT INTO cseb(id,name,place) values(2,'ashwin','mdu')'''\n",
    "        sql3 = '''INSERT INTO cseb(id,name,place) values(3,'rajkanna','odc')'''\n",
    "        sql4 = '''INSERT INTO cseb(id,name,place) values(4,'akila','mdu')'''\n",
    "        sql5 = '''INSERT INTO cseb(id,name,place) values(5,'shruthi','mdu')'''\n",
    "        sql6 = '''INSERT INTO cseb(id,name,place) values(6,'pradeep','mdu')'''\n",
    "        sql7 = '''INSERT INTO cseb(id,name,place) values(7,'giri','palani')'''\n",
    "        sql8 = '''INSERT INTO cseb(id,name,place) values(8,'aathi','dgl')'''\n",
    "        sql9 = '''INSERT INTO cseb(id,name,place) values(9,'velu','mdu')'''\n",
    "        sql10 = '''INSERT INTO cseb(id,name,place) values(10,'sathiesh','mdu')'''\n",
    "        cur.execute(sql1)\n",
    "        cur.execute(sql2)\n",
    "        cur.execute(sql3)\n",
    "        cur.execute(sql4)\n",
    "        cur.execute(sql5)\n",
    "        cur.execute(sql6)\n",
    "        cur.execute(sql7)\n",
    "        cur.execute(sql8)\n",
    "        cur.execute(sql9)\n",
    "        cur.execute(sql10)\n",
    "        print(\"success\")\n",
    "        con.commit()\n",
    "        con.close()\n",
    "    \n",
    "    def delete_by_id(self,_id):\n",
    "        if(self.connection()):\n",
    "            con =self.connection()\n",
    "            cur = con.cursor()\n",
    "            sql = \"DELETE FROM cseb WHERE id={}\".format(_id)\n",
    "            cur.execute(sql)\n",
    "            con.commit()\n",
    "            con.close()\n",
    "            print(\"Data Deleted\")\n",
    "    def update_by_id(self,_id,query,newval):\n",
    "        if(self.connection()):\n",
    "            con = self.connection()\n",
    "            cur = con.cursor()\n",
    "            sql = \"UPDATE cseb set {}= '{}' where id = {} \".format(query,newval,_id)\n",
    "            cur.execute(sql)\n",
    "            con.commit()\n",
    "            con.close()\n",
    "            print(\"Data updated\")\n",
    "    def insert_one(self,_id,name,place):\n",
    "        if (self.connection()):\n",
    "            con=self.connection()\n",
    "            cur=con.cursor()\n",
    "            sql='''INSERT INTO cseb values({},'{}','{}');'''.format(_id,name,place)\n",
    "            cur.execute(sql)\n",
    "            con.commit()\n",
    "            con.close()\n",
    "            print(\"Data Inserted\")\n",
    "    def display_all(self):\n",
    "        if(self.connection()):\n",
    "            con = self.connection()\n",
    "            cur = con.cursor()\n",
    "            sql = '''SELECT * from cseb;'''\n",
    "            cur.execute(sql)\n",
    "            data = cur.fetchall()\n",
    "            tab = pt(['id','name','place'])\n",
    "            for data in data:\n",
    "                tab.add_row(data)\n",
    "            print(tab)\n",
    "            con.close()\n",
    "    def display_by_id(self,_id):\n",
    "        if (self.connection()):\n",
    "            con=self.connection()\n",
    "            cur=con.cursor()\n",
    "            sql='''Select * from cseb where id={};'''.format(_id)\n",
    "            cur.execute(sql)\n",
    "            data=cur.fetchall()\n",
    "            tab = pt(['id', 'name','place'])\n",
    "            for data in data:\n",
    "                tab.add_row(data)\n",
    "            print(tab)\n",
    "            con.close()\n",
    "    def display_by_like(self,query,condition):\n",
    "        if (self.connection()):\n",
    "            con=self.connection()\n",
    "            cur=con.cursor()\n",
    "            sql='''Select * from cseb where {} like '{}';'''.format(query,condition)\n",
    "            cur.execute(sql)\n",
    "            data=cur.fetchall()\n",
    "            tab = pt(['id', 'name','place'])\n",
    "            for data in data:\n",
    "                tab.add_row(data)\n",
    "            print(tab)\n",
    "            con.close()\n",
    "    def truncate(self,table_name):\n",
    "        if (self.connection()):\n",
    "            con=self.connection()\n",
    "            cur=con.cursor()\n",
    "            sql='''truncate table {};'''.format(table_name)\n",
    "            cur.execute(sql) \n",
    "            con.commit()\n",
    "            con.close()\n",
    "            print(\"Truncated successfully!\")\n",
    "    "
   ]
  },
  {
   "cell_type": "code",
   "execution_count": 7,
   "id": "07fb711a",
   "metadata": {},
   "outputs": [
    {
     "name": "stdout",
     "output_type": "stream",
     "text": [
      "\n",
      "Enter 1 to Create Table\n",
      "Enter 2 to Insert Data\n",
      "Enter 3 to Delete by ID\n",
      "Enter 4 to Display by Id\n",
      "Enter 5 to Update by Id\n",
      "Enter 6 to Insert one data\n",
      "Enter 7 to Display All\n",
      "Enter 8 to Display by Like\n",
      "Enter 9 to Truncate\n",
      "Enter 0 to Exit\n",
      "\n",
      "Enter the option:7\n",
      "+----+----------+--------+\n",
      "| id |   name   | place  |\n",
      "+----+----------+--------+\n",
      "| 1  |  karthi  |  dgl   |\n",
      "| 3  | rajkanna |  odc   |\n",
      "| 4  |  akila   |  mdu   |\n",
      "| 5  | shruthi  |  mdu   |\n",
      "| 6  | pradeep  |  mdu   |\n",
      "| 7  |   giri   | palani |\n",
      "| 8  |  aathi   |  dgl   |\n",
      "| 9  |   velu   |  mdu   |\n",
      "| 2  |  aswin   |  mdu   |\n",
      "| 10 | sathiesh |  mdu   |\n",
      "+----+----------+--------+\n"
     ]
    }
   ],
   "source": [
    "k =karthi()\n",
    "print(\"\"\"\n",
    "Enter 1 to Create Table\n",
    "Enter 2 to Insert Data\n",
    "Enter 3 to Delete by ID\n",
    "Enter 4 to Display by Id\n",
    "Enter 5 to Update by Id\n",
    "Enter 6 to Insert one data\n",
    "Enter 7 to Display All\n",
    "Enter 8 to Display by Like\n",
    "Enter 9 to Truncate\n",
    "Enter 0 to Exit\n",
    "\"\"\")\n",
    "op = int(input(\"Enter the option:\"))\n",
    "\n",
    "if(op==1):\n",
    "    k.create_table()\n",
    "elif(op==2):\n",
    "    k.insert_data()\n",
    "elif(op==3):\n",
    "    _id = int(input(\"Enter the id:\"))\n",
    "    k.delete_by_id(_id)\n",
    "elif(op==4):\n",
    "    _id = int(input(\"Enter the id:\"))\n",
    "    k.display_by_id(_id)\n",
    "elif(op==5):\n",
    "    _id = int(input(\"Enter the id:\"))\n",
    "    query = input(\"Enter the col_name:\")\n",
    "    newval = input(\"Enter the new value:\")\n",
    "    k.update_by_id(_id,query,newval)\n",
    "elif(op==6):\n",
    "    _id = int(input(\"Enter the id:\"))\n",
    "    name = input(\"Enter the name:\")\n",
    "    place = input(\"Enter the place:\")\n",
    "    k.insert_one(_id,name,place)\n",
    "elif(op==7):\n",
    "    k.display_all()\n",
    "elif(op==8):\n",
    "    query = input(\"Enter the col_name:\")\n",
    "    condition = input(\"Enter the val:\")\n",
    "    k.display_by_like(query,condition)\n",
    "elif(op==9):\n",
    "    table_name = input(\"Enter the table name:\")\n",
    "    k.truncate(table_name)\n",
    "elif(op==0):\n",
    "    print(\"Thank You!!\")\n",
    "    \n",
    "    \n",
    "    \n",
    "    \n",
    "    \n",
    "    \n",
    "\n",
    "    "
   ]
  },
  {
   "cell_type": "code",
   "execution_count": 4,
   "id": "8b5a9eff",
   "metadata": {},
   "outputs": [],
   "source": [
    "#k.create_table()"
   ]
  },
  {
   "cell_type": "code",
   "execution_count": 5,
   "id": "0d1bb43c",
   "metadata": {},
   "outputs": [
    {
     "name": "stdout",
     "output_type": "stream",
     "text": [
      "success\n"
     ]
    }
   ],
   "source": [
    "#k.insert_data()"
   ]
  },
  {
   "cell_type": "code",
   "execution_count": 11,
   "id": "e6c7bb4c",
   "metadata": {},
   "outputs": [
    {
     "name": "stdout",
     "output_type": "stream",
     "text": [
      "Enter the id10\n",
      "Data Deleted\n"
     ]
    }
   ],
   "source": [
    "#_id = int(input(\"Enter the id:\"))\n",
    "#k.delete_by_id(_id)\n"
   ]
  },
  {
   "cell_type": "code",
   "execution_count": 20,
   "id": "fe7a1ce5",
   "metadata": {},
   "outputs": [
    {
     "name": "stdout",
     "output_type": "stream",
     "text": [
      "Enter the id:2\n",
      "Enter the col_name:name\n",
      "Enter the new value:aswin\n",
      "Data updated\n"
     ]
    }
   ],
   "source": [
    "#_id = int(input(\"Enter the id:\"))\n",
    "#query = input(\"Enter the col_name:\")\n",
    "#newval = input(\"Enter the new value:\")\n",
    "#k.update_by_id(_id,query,newval)"
   ]
  },
  {
   "cell_type": "code",
   "execution_count": 23,
   "id": "820dc98d",
   "metadata": {},
   "outputs": [
    {
     "name": "stdout",
     "output_type": "stream",
     "text": [
      "Enter the id:10\n",
      "Enter the name:sathiesh\n",
      "Enter the place:mdu\n",
      "Data Inserted\n"
     ]
    }
   ],
   "source": [
    "#_id = int(input(\"Enter the id:\"))\n",
    "#name = input(\"Enter the name:\")\n",
    "#place = input(\"Enter the place:\")\n",
    "#k.insert_one(_id,name,place)"
   ]
  },
  {
   "cell_type": "code",
   "execution_count": 5,
   "id": "5ff91fcb",
   "metadata": {},
   "outputs": [
    {
     "name": "stdout",
     "output_type": "stream",
     "text": [
      "+----+----------+--------+\n",
      "| id |   name   | place  |\n",
      "+----+----------+--------+\n",
      "| 1  |  karthi  |  dgl   |\n",
      "| 3  | rajkanna |  odc   |\n",
      "| 4  |  akila   |  mdu   |\n",
      "| 5  | shruthi  |  mdu   |\n",
      "| 6  | pradeep  |  mdu   |\n",
      "| 7  |   giri   | palani |\n",
      "| 8  |  aathi   |  dgl   |\n",
      "| 9  |   velu   |  mdu   |\n",
      "| 2  |  aswin   |  mdu   |\n",
      "| 10 | sathiesh |  mdu   |\n",
      "+----+----------+--------+\n"
     ]
    }
   ],
   "source": [
    "#k.display_all()"
   ]
  },
  {
   "cell_type": "code",
   "execution_count": 4,
   "id": "fe0aebf1",
   "metadata": {},
   "outputs": [
    {
     "name": "stdout",
     "output_type": "stream",
     "text": [
      "Enter the col_name:name\n",
      "Enter the val:%a\n",
      "+----+-----------+----------+\n",
      "| id | food_name | location |\n",
      "+----+-----------+----------+\n",
      "| 3  |  rajkanna |   odc    |\n",
      "| 4  |   akila   |   mdu    |\n",
      "+----+-----------+----------+\n"
     ]
    }
   ],
   "source": [
    "#query = input(\"Enter the col_name:\")\n",
    "#condition = input(\"Enter the val:\")\n",
    "#k.display_by_like(query,condition)"
   ]
  },
  {
   "cell_type": "code",
   "execution_count": null,
   "id": "9177367c",
   "metadata": {},
   "outputs": [],
   "source": []
  }
 ],
 "metadata": {
  "kernelspec": {
   "display_name": "Python 3",
   "language": "python",
   "name": "python3"
  },
  "language_info": {
   "codemirror_mode": {
    "name": "ipython",
    "version": 3
   },
   "file_extension": ".py",
   "mimetype": "text/x-python",
   "name": "python",
   "nbconvert_exporter": "python",
   "pygments_lexer": "ipython3",
   "version": "3.8.8"
  }
 },
 "nbformat": 4,
 "nbformat_minor": 5
}
